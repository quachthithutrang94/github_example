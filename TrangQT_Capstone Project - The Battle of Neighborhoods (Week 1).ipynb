{
 "cells": [
  {
   "cell_type": "markdown",
   "metadata": {},
   "source": [
    "# PROBLEM & BACKGROUND\n"
   ]
  },
  {
   "cell_type": "markdown",
   "metadata": {},
   "source": [
    "Do you want to travel but don’t know where you should go? Are you looking for a little clarity and inspiration to get your trip planning started?\n",
    "\n",
    "You want your trip to be a success and that starts with a right-fit destination. But, choosing your travel destination feels overwhelming. When deciding which city you will travel you must keep in mind food, culture, famous destination, wheather...\n",
    "\n",
    "Therefore, tourists always eager to travel to different places on the basis of available information, and the comparison (the part of the information) amongst cities always assist to choose the specific places or according to their choice.\n",
    "\n",
    "Toronto and New York are the famous places in the world. Both cities are very diverse and are the financial capitals of their respective countries. We want to explore how much they are similar or dissimilar in aspects from a tourist point of view regarding food, accommodation, beautiful places, and many more."
   ]
  },
  {
   "cell_type": "markdown",
   "metadata": {},
   "source": [
    "# DATA DESCRIPTION"
   ]
  },
  {
   "cell_type": "markdown",
   "metadata": {},
   "source": [
    "For this problem, we will get the services of Foursquare API to explore the data of two cities, in terms of their neighborhoods. The data also include the information about the places around each neighborhood like restaurants, hotels, coffee shops, parks, theaters, art galleries, museums and many more. \n",
    "\n",
    "We selected one Borough from each city to analyze their neighborhoods. \n",
    "Manhattan from New York and Downtown Toronto from Toronto.\n",
    "We will use machine learning technique, “Clustering” to segment the neighborhoods with similar objects on the basis of each neighborhood data. \n",
    "\n",
    "These objects will be given priority on the basis of foot traffic (activity) in their respective neighborhoods. This will help to locate the tourist’s areas and hubs, and then we can judge the similarity or dissimilarity between two cities on that basis."
   ]
  }
 ],
 "metadata": {
  "kernelspec": {
   "display_name": "Python 3",
   "language": "python",
   "name": "python3"
  },
  "language_info": {
   "codemirror_mode": {
    "name": "ipython",
    "version": 3
   },
   "file_extension": ".py",
   "mimetype": "text/x-python",
   "name": "python",
   "nbconvert_exporter": "python",
   "pygments_lexer": "ipython3",
   "version": "3.6.5"
  }
 },
 "nbformat": 4,
 "nbformat_minor": 2
}
