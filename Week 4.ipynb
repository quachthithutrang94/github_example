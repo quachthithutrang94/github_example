{
 "cells": [
  {
   "cell_type": "markdown",
   "metadata": {},
   "source": [
    "# PROBLEM & BACKGROUND"
   ]
  },
  {
   "cell_type": "markdown",
   "metadata": {},
   "source": [
    "Do you want to travel but don’t know where you should go? Are you looking for a little clarity and inspiration to get your trip planning started?\n",
    "\n",
    "You want your trip to be a success and that starts with a right-fit destination. But, choosing your travel destination feels overwhelming. When deciding which city you will travel you must keep in mind food, culture, famous destination, wheather...\n",
    "\n",
    "Therefore, tourists always eager to travel to different places on the basis of available information, and the comparison (the part of the information) amongst cities always assist to choose the specific places or according to their choice.\n",
    "\n",
    "Toronto and New York are the famous places in the world. Both cities are very diverse and are the financial capitals of their respective countries. We want to explore how much they are similar or dissimilar in aspects from a tourist point of view regarding food, accommodation, beautiful places, and many more."
   ]
  },
  {
   "cell_type": "markdown",
   "metadata": {},
   "source": [
    "# DATA DESCRIPTION"
   ]
  },
  {
   "cell_type": "markdown",
   "metadata": {},
   "source": [
    "For this problem, we will get the services of Foursquare API to explore the data of two cities, in terms of their neighborhoods. The data also include the information about the places around each neighborhood like restaurants, hotels, coffee shops, parks, theaters, art galleries, museums and many more. \n",
    "\n",
    "We selected one Borough from each city to analyze their neighborhoods. \n",
    "Manhattan from New York and Downtown Toronto from Toronto.\n",
    "We will use machine learning technique, “Clustering” to segment the neighborhoods with similar objects on the basis of each neighborhood data. \n",
    "\n",
    "These objects will be given priority on the basis of foot traffic (activity) in their respective neighborhoods. This will help to locate the tourist’s areas and hubs, and then we can judge the similarity or dissimilarity between two cities on that basis."
   ]
  },
  {
   "cell_type": "markdown",
   "metadata": {},
   "source": [
    "# METHODOLOGY\n",
    "As we have selected two cities Borough to explore their neighborhoods. The data exploration, analysis and visualization for both boroughs are done in the same way but separately.¶\n",
    "\n",
    "As a database, we used GitHub repository in my study.\n",
    "\n",
    "We used python folium library to visualize geographic details of Istanbul and its boroughs and we created a map of Toronto and Manhattan with boroughs superimposed on top. we used latitude and longitude values to get the visual.\n",
    "\n",
    "We utilized the Foursquare API to explore the boroughs and segment them. we designed the limit as 100 venue and the radius 500 meter for each borough from their given latitude and longitude informations.\n",
    "\n",
    "We have some common venue categories in boroughs. In this reason we used unsupervised learning K-means algorithm to cluster the boroughs. K-Means algorithm is one of the most common cluster method of unsupervised learning. Run *k*-means to cluster the neighborhood into 5 clusters.\n",
    "\n",
    "Then, we can examine each cluster and determine the discriminating venue categories that distinguish each cluster. Based on the defining categories, you can then assign a name to each cluster\n"
   ]
  },
  {
   "cell_type": "markdown",
   "metadata": {},
   "source": [
    "# EXPLORATION\n",
    "For Downtown Toronto case, we have extracted table of Toronto’s Borough from Wikipedia page. Then we arrange the data according to our requirements. In the arrangement phase, which applied multiple steps including but not limited to, eliminating “Not assigned” values, combine neighborhoods which have same geographical coordinates at each borough and sorted against the concerned borough. For data verification and further exploration, we use Foursquare API to get the coordinates of Downtown Toronto and explore its neighborhoods. The neighborhoods are further characterized as venues and venue categories.\n",
    "\n",
    "For Manhattan, we used a saved data file which is already explored through foursquare API in which we have extracted all the boroughs of New York and then sorted against the concerned borough. Then we explored the Manhattan neighborhoods as venues and venue categories"
   ]
  }
 ],
 "metadata": {
  "kernelspec": {
   "display_name": "Python 3",
   "language": "python",
   "name": "python3"
  },
  "language_info": {
   "codemirror_mode": {
    "name": "ipython",
    "version": 3
   },
   "file_extension": ".py",
   "mimetype": "text/x-python",
   "name": "python",
   "nbconvert_exporter": "python",
   "pygments_lexer": "ipython3",
   "version": "3.6.5"
  }
 },
 "nbformat": 4,
 "nbformat_minor": 2
}
